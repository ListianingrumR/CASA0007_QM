{
 "cells": [
  {
   "cell_type": "markdown",
   "metadata": {},
   "source": [
    "## Group presentaion for CASA05\n",
    "\n",
    "### Study on the relationship between pneumonia and air pollutants and recommendation for the establishment of a health centre\n",
    "\n",
    "#### Purpose of the study\n",
    "\n",
    "The aim of this study is twofold. \n",
    "\n",
    "The first is whether the air pollutant sulphur dioxide has a positive effect on the development of pneumonia. \n",
    "\n",
    "The second is to find out which areas are suitable for the establishment of pneumonia rehabilitation centres.\n",
    "\n",
    "#### Study area\n",
    "\n",
    "The London borouge.\n",
    "\n",
    "#### Study method\n",
    "1. Hypothesis testing - subtopic 1\n",
    "\n",
    "Find the correlation between SO2 and pneumonia. \n",
    "\n",
    "|               | get pneumonia | healthy |\n",
    "| -----------   | :-----------: |:-------:|\n",
    "| High SO2 area | 11            |   01    |\n",
    "| Low SO2 area  | 10            |   00    |\n",
    "\n",
    "2. Regression - subtopic 1\n",
    "\n",
    "Show the relationship between time and pneumonia cases.   T - cases - linearing regression?\n",
    "\n",
    "Show the relationship between SO2 and pneumonia cases.   SO2 - cases - linearing regression?\n",
    "\n",
    "Predict cases in the future? (optional, by time? by SO2?) \n",
    "\n",
    "3. Linearing programming - subtopic 2\n",
    "\n",
    "Binding conditions:\n",
    "\n",
    "1. n - The number of health centres. - constant - maybe can define by clustering?\n",
    "1. D - Distance cost form cases to centres. - negative\n",
    "1. C - Cases number of each region point - positive - not sure, need to be valued by the data\n",
    "1. S - The SO2 density mean of each region. - positive \n",
    "1. B - Budget - constant\n",
    "\n",
    "method: LSCP or MCLP\n",
    "\n"
   ]
  }
 ],
 "metadata": {
  "kernelspec": {
   "display_name": "Python 3.9.13 ('base')",
   "language": "python",
   "name": "python3"
  },
  "language_info": {
   "name": "python",
   "version": "3.9.13"
  },
  "orig_nbformat": 4,
  "vscode": {
   "interpreter": {
    "hash": "49cb93f377a7abe7414b7b0f21fb3017538004a126cf690fb524202736b7fb92"
   }
  }
 },
 "nbformat": 4,
 "nbformat_minor": 2
}
