{
 "cells": [
  {
   "cell_type": "markdown",
   "metadata": {},
   "source": [
    "# EDA\n",
    "This document include some investigate to the dataset"
   ]
  },
  {
   "cell_type": "code",
   "execution_count": 14,
   "metadata": {},
   "outputs": [],
   "source": [
    "# import part\n",
    "import pandas as pd\n",
    "import matplotlib.pyplot as plt"
   ]
  },
  {
   "cell_type": "code",
   "execution_count": 2,
   "metadata": {},
   "outputs": [
    {
     "name": "stderr",
     "output_type": "stream",
     "text": [
      "C:\\Users\\29425\\AppData\\Local\\Temp\\ipykernel_17508\\2617869814.py:3: DtypeWarning: Columns (0,2,15,16,35) have mixed types. Specify dtype option on import or set low_memory=False.\n",
      "  csv = pd.read_csv(\"./data/dft-road-casualty-statistics-accident-1979-2021.csv\")\n"
     ]
    }
   ],
   "source": [
    "# load the data\n",
    "# load the data\n",
    "csv = pd.read_csv(\"./data/dft-road-casualty-statistics-accident-1979-2021.csv\")\n",
    "# csv.info()"
   ]
  },
  {
   "cell_type": "code",
   "execution_count": 40,
   "metadata": {},
   "outputs": [
    {
     "name": "stdout",
     "output_type": "stream",
     "text": [
      "<class 'pandas.core.frame.DataFrame'>\n",
      "RangeIndex: 8703911 entries, 0 to 8703910\n",
      "Data columns (total 36 columns):\n",
      " #   Column                                       Dtype  \n",
      "---  ------                                       -----  \n",
      " 0   accident_index                               object \n",
      " 1   accident_year                                int64  \n",
      " 2   accident_reference                           object \n",
      " 3   location_easting_osgr                        float64\n",
      " 4   location_northing_osgr                       float64\n",
      " 5   longitude                                    float64\n",
      " 6   latitude                                     float64\n",
      " 7   police_force                                 int64  \n",
      " 8   accident_severity                            int64  \n",
      " 9   number_of_vehicles                           int64  \n",
      " 10  number_of_casualties                         int64  \n",
      " 11  date                                         object \n",
      " 12  day_of_week                                  int64  \n",
      " 13  time                                         object \n",
      " 14  local_authority_district                     int64  \n",
      " 15  local_authority_ons_district                 object \n",
      " 16  local_authority_highway                      object \n",
      " 17  first_road_class                             int64  \n",
      " 18  first_road_number                            int64  \n",
      " 19  road_type                                    int64  \n",
      " 20  speed_limit                                  float64\n",
      " 21  junction_detail                              int64  \n",
      " 22  junction_control                             int64  \n",
      " 23  second_road_class                            int64  \n",
      " 24  second_road_number                           int64  \n",
      " 25  pedestrian_crossing_human_control            int64  \n",
      " 26  pedestrian_crossing_physical_facilities      int64  \n",
      " 27  light_conditions                             int64  \n",
      " 28  weather_conditions                           int64  \n",
      " 29  road_surface_conditions                      int64  \n",
      " 30  special_conditions_at_site                   int64  \n",
      " 31  carriageway_hazards                          int64  \n",
      " 32  urban_or_rural_area                          int64  \n",
      " 33  did_police_officer_attend_scene_of_accident  int64  \n",
      " 34  trunk_road_flag                              int64  \n",
      " 35  lsoa_of_accident_location                    object \n",
      "dtypes: float64(5), int64(24), object(7)\n",
      "memory usage: 2.3+ GB\n"
     ]
    }
   ],
   "source": [
    "csv.info()"
   ]
  },
  {
   "cell_type": "code",
   "execution_count": 45,
   "metadata": {},
   "outputs": [],
   "source": [
    "# filter the year\n",
    "sub_csv = csv.query(\"accident_year > 2000\")"
   ]
  },
  {
   "cell_type": "code",
   "execution_count": null,
   "metadata": {},
   "outputs": [],
   "source": [
    "#"
   ]
  },
  {
   "cell_type": "markdown",
   "metadata": {},
   "source": [
    "## function area"
   ]
  },
  {
   "cell_type": "code",
   "execution_count": 37,
   "metadata": {},
   "outputs": [],
   "source": [
    "# plot the bar chart\n",
    "def plot_bar(list, catag_boolen):\n",
    "    x = list.iloc[:, 0]\n",
    "    y = list.iloc[:, 1]\n",
    "    if catag_boolen:\n",
    "        for index in range(len(x)):\n",
    "            x[index] = str(x[index])\n",
    "    plt.bar(x, y)\n",
    "    plt.show()"
   ]
  },
  {
   "cell_type": "code",
   "execution_count": 11,
   "metadata": {},
   "outputs": [],
   "source": [
    "# get the value statistic\n",
    "def get_accident_number_by(value_string):\n",
    "    try:\n",
    "        sub_csv = sub_csv[[value_string]]\n",
    "    except:\n",
    "        print(\"the value you input is not valid\")\n",
    "        return\n",
    "    count = sub_csv.groupby([value_string]).size().reset_index(name='counts')\n",
    "    return count"
   ]
  },
  {
   "cell_type": "code",
   "execution_count": 39,
   "metadata": {},
   "outputs": [],
   "source": [
    "# get_bar_by_factors\n",
    "def get_bar_by_factors(factor, inCata):\n",
    "    try:\n",
    "        return plot_bar(get_accident_number_by(factor), inCata)\n",
    "    except:\n",
    "        print(\"please check the input\")\n",
    "        return "
   ]
  },
  {
   "cell_type": "code",
   "execution_count": 43,
   "metadata": {},
   "outputs": [
    {
     "data": {
      "image/png": "[encoded data removed]",
      "text/plain": [
       "<Figure size 640x480 with 1 Axes>"
      ]
     },
     "metadata": {},
     "output_type": "display_data"
    }
   ],
   "source": [
    "get_bar_by_factors(\"accident_year\", False)"
   ]
  },
  {
   "cell_type": "code",
   "execution_count": 44,
   "metadata": {},
   "outputs": [
    {
     "data": {
      "image/png": "[encoded data removed]",
      "text/plain": [
       "<Figure size 640x480 with 1 Axes>"
      ]
     },
     "metadata": {},
     "output_type": "display_data"
    }
   ],
   "source": [
    "get_bar_by_factors(\"time\", False)"
   ]
  }
 ],
 "metadata": {
  "kernelspec": {
   "display_name": "Python 3.9.13 ('base')",
   "language": "python",
   "name": "python3"
  },
  "language_info": {
   "codemirror_mode": {
    "name": "ipython",
    "version": 3
   },
   "file_extension": ".py",
   "mimetype": "text/x-python",
   "name": "python",
   "nbconvert_exporter": "python",
   "pygments_lexer": "ipython3",
   "version": "3.9.13"
  },
  "orig_nbformat": 4,
  "vscode": {
   "interpreter": {
    "hash": "49cb93f377a7abe7414b7b0f21fb3017538004a126cf690fb524202736b7fb92"
   }
  }
 },
 "nbformat": 4,
 "nbformat_minor": 2
}
