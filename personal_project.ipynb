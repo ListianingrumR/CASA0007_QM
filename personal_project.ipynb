{
 "cells": [
  {
   "cell_type": "markdown",
   "metadata": {},
   "source": [
    "## 一个小小的测试\n",
    "\n",
    "SEIRS模型 模拟新冠确诊数量。\n",
    "\n",
    "S:\t易感人群\n",
    "E： 暴露者\n",
    "I： 感染者\n",
    "R：\t痊愈者\n"
   ]
  },
  {
   "cell_type": "code",
   "execution_count": 179,
   "metadata": {},
   "outputs": [],
   "source": [
    "import numpy as np\n",
    "import matplotlib.pyplot as plt"
   ]
  },
  {
   "cell_type": "code",
   "execution_count": 180,
   "metadata": {},
   "outputs": [
    {
     "data": {
      "text/plain": [
       "'\\n微分方程\\n\\nN*ds(t)/dt = m*N*r(t) - b*s(t)*N*i(t)\\nN*de(t)/dt = b*s(t)*N*i(t) - f*N*e(t)\\nN*di(t)/dt = f*N*e(t) - z*N*i(t)\\nN*dr(t)/dt = z*N*i(t) - m*N*r(t)\\n\\n'"
      ]
     },
     "execution_count": 180,
     "metadata": {},
     "output_type": "execute_result"
    }
   ],
   "source": [
    "# 参数设置\n",
    "\n",
    "'''\n",
    "\n",
    "S:  易感人群 Susceptible\n",
    "E:  暴露者 Exposed\n",
    "I:  感染者 Infectious\n",
    "R:  痊愈者 Recovered\n",
    "\n",
    "t 时刻各类数量 S(t), E(t), I(t), R(t)\n",
    "t 时刻各类比例 s(t), e(t), i(t), r(t)\n",
    "\n",
    "N 总人数\n",
    "b 日暴露数量\n",
    "f 发病率\n",
    "z 治愈率\n",
    "m 免疫丧失率\n",
    "\n",
    "四类人之间关系\n",
    "\n",
    "ds(t)/dt = m*r(t) - b*s(t)*i(t)\n",
    "de(t)/dt = b*s(t)*i(t) - f*e(t)\n",
    "di(t)/dt = f*e(t) - z*i(t)\n",
    "dr(t)/dt = z*i(t) - m*r(t)\n",
    " \n",
    "'''\n",
    "\n",
    "\n",
    "'''\n",
    "微分方程\n",
    "\n",
    "N*ds(t)/dt = m*N*r(t) - b*s(t)*N*i(t)\n",
    "N*de(t)/dt = b*s(t)*N*i(t) - f*N*e(t)\n",
    "N*di(t)/dt = f*N*e(t) - z*N*i(t)\n",
    "N*dr(t)/dt = z*N*i(t) - m*N*r(t)\n",
    "\n",
    "'''"
   ]
  },
  {
   "cell_type": "code",
   "execution_count": 181,
   "metadata": {},
   "outputs": [
    {
     "name": "stdout",
     "output_type": "stream",
     "text": [
      "[[100000, 0, 100, 0]]\n"
     ]
    }
   ],
   "source": [
    "# define the constance\n",
    "N = 1000000\n",
    "b = 1000\n",
    "f = 0.8\n",
    "z = 0.6\n",
    "m = 0.3\n",
    "\n",
    "# Susceptible N*s(t)\n",
    "s = 100000\n",
    "# Exposed N*e(t)\n",
    "e = 0\n",
    "# Infectious N*i(t)\n",
    "i = 100\n",
    "# Recovered N*r(t)\n",
    "r = 0\n",
    "\n",
    "# each day state\n",
    "state_day = [s, e, i ,r]\n",
    "\n",
    "# result\n",
    "whole_year = []\n",
    "\n",
    "whole_year.append(state_day)\n",
    "\n",
    "print(whole_year)"
   ]
  },
  {
   "cell_type": "code",
   "execution_count": 182,
   "metadata": {},
   "outputs": [],
   "source": [
    "# Convert function\n",
    "def convert(list):\n",
    "    # list is [s, e, i ,r]\n",
    "    s = list[0]\n",
    "    e = list[1]\n",
    "    i = list[2]\n",
    "    r = list[3]\n",
    "\n",
    "    new_s = m*r - b*s/N*i\n",
    "    new_e = b*s/N*i - f*e\n",
    "    new_i = f*e - z*i\n",
    "    new_r = z*i - m*r\n",
    "\n",
    "    result = [new_s*N, new_e*N, new_i*N, new_r*N]\n",
    "\n",
    "    for eachitem in result:\n",
    "        if eachitem < 0:\n",
    "            result[result.index(eachitem)] = 0\n",
    "\n",
    "    \n",
    "\n",
    "    return result"
   ]
  },
  {
   "cell_type": "code",
   "execution_count": 183,
   "metadata": {},
   "outputs": [],
   "source": [
    "# start\n",
    "\n",
    "\n",
    "for day in range(30):\n",
    "    next_day = convert(whole_year[day])\n",
    "    whole_year.append(next_day)\n",
    "    "
   ]
  },
  {
   "cell_type": "code",
   "execution_count": 185,
   "metadata": {},
   "outputs": [
    {
     "data": {
      "image/png": "[encoded data removed]",
      "text/plain": [
       "<Figure size 640x480 with 1 Axes>"
      ]
     },
     "metadata": {},
     "output_type": "display_data"
    }
   ],
   "source": [
    "# print the result\n",
    "\n",
    "plt.xlabel(\"day\")\n",
    "plt.ylabel(\"cases\")\n",
    "\n",
    "case = []\n",
    "for each in whole_year:\n",
    "    case.append(each[2])\n",
    "\n",
    "plt.plot(range(1,len(case)),case[0:len(case)-1])\n",
    "\n",
    "plt.grid()\n",
    "plt.show()\n",
    "\n"
   ]
  }
 ],
 "metadata": {
  "kernelspec": {
   "display_name": "Python 3.9.13 ('base')",
   "language": "python",
   "name": "python3"
  },
  "language_info": {
   "codemirror_mode": {
    "name": "ipython",
    "version": 3
   },
   "file_extension": ".py",
   "mimetype": "text/x-python",
   "name": "python",
   "nbconvert_exporter": "python",
   "pygments_lexer": "ipython3",
   "version": "3.9.13"
  },
  "orig_nbformat": 4,
  "vscode": {
   "interpreter": {
    "hash": "49cb93f377a7abe7414b7b0f21fb3017538004a126cf690fb524202736b7fb92"
   }
  }
 },
 "nbformat": 4,
 "nbformat_minor": 2
}
